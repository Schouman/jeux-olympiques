{
  "nbformat": 4,
  "nbformat_minor": 0,
  "metadata": {
    "kernelspec": {
      "display_name": "Python 3",
      "language": "python",
      "name": "python3"
    },
    "language_info": {
      "codemirror_mode": {
        "name": "ipython",
        "version": 3
      },
      "file_extension": ".py",
      "mimetype": "text/x-python",
      "name": "python",
      "nbconvert_exporter": "python",
      "pygments_lexer": "ipython3",
      "version": "3.8.6"
    },
    "colab": {
      "name": "p1-exploration-preliminaire.ipynb",
      "provenance": []
    }
  },
  "cells": [
    {
      "cell_type": "markdown",
      "metadata": {
        "id": "ov5HJws83F8x"
      },
      "source": [
        "# P1. Exploration Préliminaire !"
      ]
    },
    {
      "cell_type": "markdown",
      "metadata": {
        "id": "1sBrJ94l3F9P"
      },
      "source": [
        "Le répertoire `/data` contient les résultats brutes des épreuves des jeux d'été et d'hiver pour une période donnée.\n",
        "\n",
        "On s'intéresse dans le cadre de cette partie P1 à l'exploration des résultats des JO d'été (fichier : `summer-olympics.csv`) en s'appuyant seulement sur des outils assez communs (explorateur de fichiers, éditeur de texte, traitement de texte, tableur...)  "
      ]
    },
    {
      "cell_type": "markdown",
      "metadata": {
        "id": "rYUxvZW-3F9S"
      },
      "source": [
        "---"
      ]
    },
    {
      "cell_type": "markdown",
      "metadata": {
        "id": "QKi9Rkam3F9S"
      },
      "source": [
        "### Question 1: Quel est le type (texte ou binaire) et le format de ce fichier ?"
      ]
    },
    {
      "cell_type": "markdown",
      "metadata": {
        "id": "0uILdX5m3F9T"
      },
      "source": [
        "Le fichier `summer-olympics.csv` est un fichier texte au format csv"
      ]
    },
    {
      "cell_type": "markdown",
      "metadata": {
        "id": "5f44WfcW3F9U"
      },
      "source": [
        "### Question 2: Quel est le format du fichier en question ? "
      ]
    },
    {
      "cell_type": "markdown",
      "metadata": {
        "id": "05PENzZL3F9X"
      },
      "source": [
        "csv"
      ]
    },
    {
      "cell_type": "markdown",
      "metadata": {
        "id": "oOwHFTRg3F9Y"
      },
      "source": [
        "### Question 3: Décrire en quelques lignes ce format de fichier"
      ]
    },
    {
      "cell_type": "markdown",
      "metadata": {
        "id": "YpNZ9jVS3F9Z"
      },
      "source": [
        "le format CSV est un format de texte simple dit aussi fichier tableur, il permet l'importation et l'exportation de bases de données. "
      ]
    },
    {
      "cell_type": "markdown",
      "metadata": {
        "id": "o7JdmAup3F9a"
      },
      "source": [
        "### Question 4: Donner des exemples d'autres formats de fichier pouvant être utilisé pour fournir des données similaires "
      ]
    },
    {
      "cell_type": "markdown",
      "metadata": {
        "id": "2iw7zGIa3F9a"
      },
      "source": [
        "xml, json (JavaScript Object Notation), xls, txt"
      ]
    },
    {
      "cell_type": "markdown",
      "metadata": {
        "id": "xlvDeSW43F9b"
      },
      "source": [
        "### Question 5: Décrire le contenu du fichier considéré  "
      ]
    },
    {
      "cell_type": "markdown",
      "metadata": {
        "id": "WLFHidOG3F9c"
      },
      "source": [
        "présente les jeux olympiques en fonction des Années, des villes, des disciplines, du pays du nom des athletes de leur genre de l'épreuve et des médailles gagnées. "
      ]
    },
    {
      "cell_type": "markdown",
      "metadata": {
        "id": "CUZc2tgM3F9c"
      },
      "source": [
        "---\n",
        "### Remarque: \n",
        "**Pour les questions suivantes, indiquer d'abord la requête SQL permettant de répondre à la question posée **"
      ]
    },
    {
      "cell_type": "markdown",
      "metadata": {
        "id": "X8dSMWPY3F9d"
      },
      "source": [
        "### Question 6: Combien d'enregistrements possède la table `summer` ?"
      ]
    },
    {
      "cell_type": "markdown",
      "metadata": {
        "id": "VAh1GrcA3F9e"
      },
      "source": [
        "```sql\n",
        "-- Question 6\n",
        "\n",
        "````\n"
      ]
    },
    {
      "cell_type": "markdown",
      "metadata": {
        "id": "q7qRUb543F9e"
      },
      "source": [
        "Réponse 6: "
      ]
    },
    {
      "cell_type": "markdown",
      "metadata": {
        "id": "XyRNzPaA3F9f"
      },
      "source": [
        "### Question 7: Quelle période des JO couvre ce fichier de résultats ?"
      ]
    },
    {
      "cell_type": "code",
      "metadata": {
        "id": "9JLv76i13F9g"
      },
      "source": [
        ""
      ],
      "execution_count": null,
      "outputs": []
    },
    {
      "cell_type": "markdown",
      "metadata": {
        "id": "ngVtiPW73F9i"
      },
      "source": [
        "### Question 8: Indiquer les années et villes des olympiades présentes dans ce jeu de données ? \n"
      ]
    },
    {
      "cell_type": "code",
      "metadata": {
        "id": "bwTTzbB53F9j"
      },
      "source": [
        ""
      ],
      "execution_count": null,
      "outputs": []
    },
    {
      "cell_type": "code",
      "metadata": {
        "id": "wbL4zGPa3F9k"
      },
      "source": [
        ""
      ],
      "execution_count": null,
      "outputs": []
    },
    {
      "cell_type": "code",
      "metadata": {
        "id": "RAlGXl9h3F9k"
      },
      "source": [
        ""
      ],
      "execution_count": null,
      "outputs": []
    },
    {
      "cell_type": "code",
      "metadata": {
        "id": "g0jOIhdq3F9l"
      },
      "source": [
        ""
      ],
      "execution_count": null,
      "outputs": []
    },
    {
      "cell_type": "markdown",
      "metadata": {
        "id": "xCbZ33UK3F9m"
      },
      "source": [
        "### Question i: "
      ]
    },
    {
      "cell_type": "code",
      "metadata": {
        "id": "3c9mNVB93F9o"
      },
      "source": [
        ""
      ],
      "execution_count": null,
      "outputs": []
    },
    {
      "cell_type": "markdown",
      "metadata": {
        "id": "2Xs2ZmSE3F9p"
      },
      "source": [
        "--- "
      ]
    },
    {
      "cell_type": "markdown",
      "metadata": {
        "id": "wWYB3Ldo3F9q"
      },
      "source": [
        "Fin"
      ]
    }
  ]
}