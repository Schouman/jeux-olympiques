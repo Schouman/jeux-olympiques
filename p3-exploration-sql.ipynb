{
 "cells": [
  {
   "cell_type": "markdown",
   "metadata": {},
   "source": [
    "# P3. Exploration SQL"
   ]
  },
  {
   "cell_type": "markdown",
   "metadata": {},
   "source": [
    "Le répertoire `/db` contient une base de données SQLite3 `olympics.sqbpro` reprenant les résultats des épreuves des jeux d'été pour une période donnée (cf P1 & P2).\n",
    "\n",
    "On s'intéresse dans le cadre de cette partie P3 à l'exploration via SQL des résultats des JO d'été (table : `summer`)."
   ]
  },
  {
   "cell_type": "markdown",
   "metadata": {},
   "source": [
    "---"
   ]
  },
  {
   "cell_type": "markdown",
   "metadata": {},
   "source": [
    "### Question 1: Qu'est ce que SQL ?"
   ]
  },
  {
   "cell_type": "markdown",
   "metadata": {},
   "source": [
    "Est un langage permettant de communiquer avec une base de données. Un langage de requète. SQL permet de rechercher, d'ajouter, de modifier ou de supprimer des données dans les bases de données relationnelles (données organisées en tableau à deux dimensions)\n",
    "\n",
    "*https://fr.wikipedia.org/wiki/Structured_Query_Language*\n",
    "\n",
    "*https://sql.sh/*"
   ]
  },
  {
   "cell_type": "markdown",
   "metadata": {},
   "source": [
    "### Question 2: Qu'est ce que SQLite 3 ? Avantages et/ou Inconvénients ?"
   ]
  },
  {
   "cell_type": "markdown",
   "metadata": {},
   "source": [
    "SQLite3 est un logiciel de gestion de bases de données. Il est simplifié, dans son utilisation mais aussi d'un point de vue de ces fonctionnalités par rapport à MySQL. Il ne nécessite qu'un fichier par base, directement sur le disque dur du serveur (là où MySQL dispose de son propre serveur). Plus largement, SQLite ne reconnaît ni les transactions imbriquées (transaction  qui démarre  à  l'intérieur  d'une  autre transaction), ni les déclencheurs (ou triggers, permet d’exécuter un ensemble d’instruction SQL juste après un événement. Action qui permet de faciliter et d’automatiser des actions au sein d’un Système de Gestion de Base de Données (SGBD).).\n",
    "SQLite est donc à réserver aux sites à faible besoin de puissance, plus limité par rapport à MySQL.\n",
    "\n",
    "*http://www.journaldunet.com/developpeur/tutoriel/sql/050127-sqlite-limites.shtml*\n",
    "\n",
    "*https://sql.sh/*\n",
    "\n",
    "*https://www.sqlspot.com/sites/sqlspot.com/IMG/pdf/Transactions_imbriquees-2.pdf*\n",
    "\n",
    "*https://sql.sh/cours/create-trigger*"
   ]
  },
  {
   "cell_type": "markdown",
   "metadata": {},
   "source": [
    "### Question 3: Donner des exemples d'autres formats de fichier pouvant être utilisé pour fournir des données similaires "
   ]
  },
  {
   "cell_type": "markdown",
   "metadata": {},
   "source": [
    "cvs, xlm, json, xls"
   ]
  },
  {
   "cell_type": "markdown",
   "metadata": {},
   "source": [
    "### Question 4: Quel est le type (texte ou binaire) du fichier base de données SQLite3?"
   ]
  },
  {
   "cell_type": "markdown",
   "metadata": {},
   "source": [
    "Le fichier `olympics.sqbpro` est un fichier binaire"
   ]
  },
  {
   "cell_type": "markdown",
   "metadata": {},
   "source": [
    "### Question 5: Donner les caractéristiques de la table `summer` ? "
   ]
  },
  {
   "cell_type": "markdown",
   "metadata": {},
   "source": [
    "la table Summer regroupe les données sur les Jeux Olympiques depuis 1896 à 2012. Elle contient comme information les médailles gagnées en fonction des années, des Villes où se sont déroulés les jeux, des Sports, des Disciplines, du nom des Athlètes,du Pays, du Sexe de l'Athlete et des épreuves. "
   ]
  },
  {
   "cell_type": "markdown",
   "metadata": {},
   "source": [
    "---\n",
    "### Question 6: Combien d'enregistrements possède la table `summer` ?"
   ]
  },
  {
   "cell_type": "markdown",
   "metadata": {},
   "source": [
    "SELECT count(*)\n",
    "FROM summer\n",
    "31165"
   ]
  },
  {
   "cell_type": "markdown",
   "metadata": {},
   "source": [
    "### Question 7: Quelle période des JO couvre ce fichier de résultats ?"
   ]
  },
  {
   "cell_type": "markdown",
   "metadata": {},
   "source": [
    "SELECT min(Year), max(Year)\n",
    "FROM summer\n",
    "\n",
    "1896\t2012"
   ]
  },
  {
   "cell_type": "markdown",
   "metadata": {},
   "source": [
    "### Question 8: Indiquer les années et villes des olympiades ? "
   ]
  },
  {
   "cell_type": "markdown",
   "metadata": {},
   "source": [
    "SELECT DISTINCT Year, City\n",
    "FROM summer\n",
    "\n",
    "![Annees_olympiade](Images/Annees-Olympiade.png)\n",
    "\n",
    "![Annees_olympiade](Images/Annees-Olympiade2.png)"
   ]
  },
  {
   "cell_type": "markdown",
   "metadata": {},
   "source": []
  },
  {
   "cell_type": "code",
   "execution_count": null,
   "metadata": {},
   "outputs": [],
   "source": []
  },
  {
   "cell_type": "code",
   "execution_count": null,
   "metadata": {},
   "outputs": [],
   "source": []
  },
  {
   "cell_type": "markdown",
   "metadata": {},
   "source": [
    "### Question i: "
   ]
  },
  {
   "cell_type": "markdown",
   "metadata": {},
   "source": [
    "## Q3. En 2012 combien de médailles le Japon a t-il gagné ? (Théo)"
   ]
  },
  {
   "cell_type": "markdown",
   "metadata": {},
   "source": [
    "SELECT count(*)\n",
    "FROM summer\n",
    "WHERE Year=2012 AND Country=\"JPN\" \n",
    "\n",
    "count(*)\n",
    "84\n",
    "\n",
    "![Q3](Images/Q3.png)\n",
    "\n",
    "\n",
    "En prenant en compte une médaille par équipe\n",
    "\n",
    "![Q3_bis](Images/Q3_bis.png)\n"
   ]
  },
  {
   "cell_type": "markdown",
   "metadata": {},
   "source": [
    "## Q17. Entre 1984 et 2012 combien de médailles a gagné la France ? (Abire)"
   ]
  },
  {
   "cell_type": "markdown",
   "metadata": {},
   "source": [
    "SELECT count(*)\n",
    "FROM summer\n",
    "WHERE Year>=1984 AND Year<= 2012  AND Country=\"FRA\"\n",
    "\n",
    "482\n",
    "\n",
    "![Q17](Images/Q17.png)\n",
    "\n",
    "En prenant en compte une médaille par équipe et en fonction du genre\n",
    "\n",
    "![Q17_bis](Images/Q17_bis.png)"
   ]
  },
  {
   "cell_type": "markdown",
   "metadata": {},
   "source": [
    "## Q10. Combien de joueuses comptait la sélection brésilienne de volley-ball médaillée d’or aux J.O de 2012 ? "
   ]
  },
  {
   "cell_type": "markdown",
   "metadata": {},
   "source": [
    "SELECT count(*)\n",
    "FROM summer\n",
    "WHERE Year=2012 AND Gender=\"Women\" AND Discipline=\"Volleyball\" AND Medal=\"Gold\"\n",
    "\n",
    "12\n",
    "\n",
    "![Q10](Images/Q10.png)\n"
   ]
  },
  {
   "cell_type": "markdown",
   "metadata": {},
   "source": [
    "## Q13. Est-ce que la France à déjà gagné une médaille d’or au cricket ?"
   ]
  },
  {
   "cell_type": "markdown",
   "metadata": {},
   "source": [
    "SELECT count(*)\n",
    "FROM summer\n",
    "WHERE Country=\"FRA\" AND Discipline=\"Cricket\" AND Medal=\"Gold\"\n",
    "\n",
    "0\n",
    "![Q13](Images/Q13.png)"
   ]
  },
  {
   "cell_type": "markdown",
   "metadata": {},
   "source": [
    "## Q12. Quel est l’athlète qui a remporté le plus de médailles d’or ?"
   ]
  },
  {
   "cell_type": "markdown",
   "metadata": {},
   "source": [
    "SELECT Athlete \n",
    "FROM summer\n",
    "WHERE Medal= « Gold »\n",
    "GROUP by Athlete\n",
    "ORDER by count(*) DESC\n",
    "\n",
    "![Q12](Images/Q12.png)"
   ]
  },
  {
   "cell_type": "markdown",
   "metadata": {},
   "source": [
    "## Q15. Le nombre de médailles d’or par pays en 2012 (Maëlle) "
   ]
  },
  {
   "cell_type": "markdown",
   "metadata": {},
   "source": [
    "SELECT Country, count(*)\n",
    "FROM summer\n",
    "WHERE Medal=\"Gold\" AND Year=2012\n",
    "GROUP by Country\n",
    "ORDER by count(*) DESC \n",
    "\n",
    "![Q15](Images/Q15.png)\n",
    "\n",
    "![Q15_bis](Images/Q15_bis.png)"
   ]
  },
  {
   "cell_type": "markdown",
   "metadata": {},
   "source": [
    " ## Q5. Quel pays a remporté le plus de médailles d’or ? (Philippe)  "
   ]
  },
  {
   "cell_type": "markdown",
   "metadata": {},
   "source": [
    "SELECT Country, count(*)\n",
    "FROM summer\n",
    "WHERE Medal=\"Gold\"\n",
    "GROUP by Country\n",
    "ORDER by count(*) DESC\n",
    "LIMIT 1\n",
    "\n",
    "![Q5](Images/Q5.png)\n",
    "\n",
    "![Q5_bis](Images/Q5_bis.png)\n"
   ]
  },
  {
   "cell_type": "markdown",
   "metadata": {},
   "source": [
    "## Q16. Combien de femmes ont remporté des médailles ? (Alicia) "
   ]
  },
  {
   "cell_type": "markdown",
   "metadata": {},
   "source": [
    "SELECT count(*)\n",
    "FROM summer\n",
    "WHERE Gender=\"Women\"\n",
    "\n",
    "![Q16](Images/Q16.png)"
   ]
  },
  {
   "cell_type": "markdown",
   "metadata": {},
   "source": [
    "## Q7. Combien de femmes ont obtenu  une médaille d’or ? (Lamia) "
   ]
  },
  {
   "cell_type": "markdown",
   "metadata": {},
   "source": [
    "SELECT count(*)\n",
    "FROM summer\n",
    "WHERE Gender=\"Women\" AND Medal=\"Gold\"\n",
    "\n",
    "![Q7](Images/Q7.png)"
   ]
  },
  {
   "cell_type": "markdown",
   "metadata": {},
   "source": [
    "## Q11. Combien de femmes françaises ont participé en 2012 , quel sont leurs médailles ?"
   ]
  },
  {
   "cell_type": "markdown",
   "metadata": {},
   "source": [
    "SELECT DISTINCT Athlete, count(*)\n",
    "FROM summer\n",
    "WHERE Gender=\"Women\" AND Year=2012 AND Country=\"FRA\"\n",
    "GROUP by Athlete\n",
    "ORDER by count(*) DESC\n",
    "\n",
    "![Q11](Images/Q11.png)"
   ]
  },
  {
   "cell_type": "markdown",
   "metadata": {},
   "source": [
    "## Q9. Combien de fois Londres a accueilli les J.O ? (Marvin) "
   ]
  },
  {
   "cell_type": "markdown",
   "metadata": {},
   "source": [
    "SELECT count(DISTINCT Year)\n",
    "FROM summer\n",
    "WHERE City=\"London\"\n",
    "\n",
    "![Q9](Images/Q9.png)\n",
    "\n",
    "\n",
    "SELECT DISTINCT Year, City\n",
    "FROM summer\n",
    "WHERE City=\"London\"\n",
    "\n",
    "![Q9_bis](Images/Q9_bis.png)\n"
   ]
  },
  {
   "cell_type": "markdown",
   "metadata": {},
   "source": [
    "## Q6. Combien de villes différentes ont accueilli les JO d’été entre 1896 et 2012 ? (Yoann) "
   ]
  },
  {
   "cell_type": "markdown",
   "metadata": {},
   "source": [
    "SELECT count(DISTINCT City)\n",
    "FROM summer\n",
    "WHERE Year>= 1896 AND Year <= 2012 \n",
    "\n",
    "![Q6](Images/Q6.png)"
   ]
  },
  {
   "cell_type": "markdown",
   "metadata": {},
   "source": [
    "## Q2. Quel pays a le plus d’athlètes ? (Matthias) "
   ]
  },
  {
   "cell_type": "markdown",
   "metadata": {},
   "source": [
    "SELECT Country, count(DISTINCT Athlete)\n",
    "FROM summer\n",
    "GROUP by Country\n",
    "ORDER by count(DISTINCT Athlete) DESC\n",
    "Limit 1\n",
    "\n",
    "![Q2](Images/Q2.png)"
   ]
  },
  {
   "cell_type": "markdown",
   "metadata": {},
   "source": [
    "## Q8. Combien de sports différents sont représentés par année ? (joris) "
   ]
  },
  {
   "cell_type": "markdown",
   "metadata": {},
   "source": [
    "SELECT Year, count(DISTINCT Sport)\n",
    "FROM summer\n",
    "GROUP by Year\n",
    "ORDER by Year\n",
    "\n",
    "![Q8](Images/Q8.png)\n",
    "![Q8_bis](Images/Q8_bis.png)\n"
   ]
  },
  {
   "cell_type": "markdown",
   "metadata": {},
   "source": [
    "## Q4. Dans quels différents sports les Grecs ont-ils gagné des médailles ? (Corentin L) "
   ]
  },
  {
   "cell_type": "markdown",
   "metadata": {},
   "source": [
    "SELECT Sport, count(Medal)\n",
    "FROM summer\n",
    "WHERE Country=\"GRE\"\n",
    "GROUP by Sport\n",
    "ORDER by count(Medal) DESC\n",
    "\n",
    "![Q4](Images/Q4.png)"
   ]
  },
  {
   "cell_type": "markdown",
   "metadata": {},
   "source": [
    "## Q14. Combien de médaillés ont un nom de famille de plus de 6 lettres en excluant les années paires ? (jonathan) "
   ]
  },
  {
   "cell_type": "markdown",
   "metadata": {},
   "source": [
    "SELECT Year, Athlete\n",
    "FROM summer\n",
    "WHERE ([Year]%2)!=0 \n",
    "\n",
    "![Q14](Images/Q14.png)"
   ]
  },
  {
   "cell_type": "markdown",
   "metadata": {},
   "source": [
    "## Q1 Combien la France a remporté de médailles d’or aux JO de 1984 ? (Christophe) "
   ]
  },
  {
   "cell_type": "markdown",
   "metadata": {},
   "source": [
    "![Q1](Images/Q1.png)\n",
    "\n",
    "Prend en compte une médaille par équipe et les médailles par sport individuel (contrairement au premier script)\n",
    "\n",
    "![Q1_bis](Images/Q1_bis.png)\n",
    "\n",
    "![Q1_bisbis](Images/Q1_bisbis.png)"
   ]
  },
  {
   "cell_type": "markdown",
   "metadata": {},
   "source": [
    "--- "
   ]
  },
  {
   "cell_type": "markdown",
   "metadata": {},
   "source": [
    "Fin"
   ]
  }
 ],
 "metadata": {
  "kernelspec": {
   "display_name": "Python 3",
   "language": "python",
   "name": "python3"
  },
  "language_info": {
   "codemirror_mode": {
    "name": "ipython",
    "version": 3
   },
   "file_extension": ".py",
   "mimetype": "text/x-python",
   "name": "python",
   "nbconvert_exporter": "python",
   "pygments_lexer": "ipython3",
   "version": "3.8.6"
  }
 },
 "nbformat": 4,
 "nbformat_minor": 4
}
